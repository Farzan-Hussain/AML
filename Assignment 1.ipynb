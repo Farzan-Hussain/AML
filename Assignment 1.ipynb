{
 "cells": [
  {
   "cell_type": "markdown",
   "metadata": {},
   "source": [
    "# Assignment 1\n",
    "## Applied Machine Learning (BUAN 6341)\n"
   ]
  },
  {
   "cell_type": "markdown",
   "metadata": {},
   "source": [
    "Deliverables:\n",
    "\n",
    "- Submit your answers to conceptual questions (described in another .pdf file) in a pdf file.\n",
    "- Write down your codes and discussions in the given cells described in this file.\n",
    "    - Cells for coding are denoted as \"YOUR CODE HERE\" \n",
    "    - Cells for discussions are denoted as \"YOUR DISCUSSIONS HERE\". Include \"#\" before each line of your discussions to comment out your wordings (i.e., not considered as code).\n",
    "    - If you need more cells to check temporary results, add a cell using the \"+\" button or shortcut \"esc + b\".\n",
    "- Submit two files: .pdf, and .ipynb to elearning."
   ]
  },
  {
   "cell_type": "code",
   "execution_count": 1,
   "metadata": {},
   "outputs": [],
   "source": [
    "NAME = \"Farzan\""
   ]
  },
  {
   "cell_type": "markdown",
   "metadata": {},
   "source": [
    "### Meet the Data and the Setting\n",
    "\n",
    "##### Background  \n",
    "Bike sharing systems are new generation of traditional bike rentals where whole process from membership, rental and return back has become automatic. Currently, there are about over 500 bike-sharing programs around the world which is composed of over 500 thousands bicycles.\n",
    "\n",
    "##### The Dataset\n",
    "\n",
    "We will be using the daily version of the Capital Bikeshare System dataset from the UCI Machine Learning Repository. This data set contains information about the daily count of bike rental checkouts in Washington, D.C.’s bikeshare program between 2011 and 2012. It also includes information about the weather and seasonal/temporal features for that day (like whether it was a weekday).\n",
    "- **day:** Day of the record (relative to day 1:2011-01-01)\n",
    "- **season:** Season (1:spring, 2:summer, 3:fall, 4:winter)\n",
    "- **weekday:** Day of the week (0=Sunday, 6=Saturday)\n",
    "- **workingday:** If day is neither weekend nor holiday is 1, otherwise is 0.\n",
    "- **weathersit:**<br>\n",
    "    - 1: Clear, Few clouds, Partly cloudy, Partly cloudy\n",
    "    - 2: Mist + Cloudy, Mist + Broken clouds, Mist + Few clouds, Mist\n",
    "    - 3: Light Snow, Light Rain + Thunderstorm + Scattered clouds, Light Rain + Scattered\n",
    "clouds\n",
    "- **temp:** Normalized temperature in Celcius\n",
    "- **windspeed:** Normalized wind speed\n",
    "- **casual:** Count of checkouts by casual/non-registered users\n",
    "- **registered:** Count of checkouts by registered users\n",
    "- **cnt:** Total checkouts\n",
    "\n",
    "##### Practice Prep\n",
    "The cells below imports basic packages as well as the bike-sharing dataset. The original dataset is loaded as Pandas DataFrame, and is named as 'daily'. Run and read through the cells below to obtain a general understanding of the data."
   ]
  },
  {
   "cell_type": "code",
   "execution_count": 2,
   "metadata": {},
   "outputs": [],
   "source": [
    "%matplotlib inline \n",
    "import numpy as np\n",
    "import pandas as pd\n",
    "import sklearn\n",
    "import matplotlib.pyplot as plt\n",
    "import seaborn as sns\n",
    "\n",
    "import warnings\n",
    "warnings.filterwarnings('ignore')"
   ]
  },
  {
   "cell_type": "code",
   "execution_count": 9,
   "metadata": {},
   "outputs": [
    {
     "data": {
      "text/html": [
       "<div>\n",
       "<style scoped>\n",
       "    .dataframe tbody tr th:only-of-type {\n",
       "        vertical-align: middle;\n",
       "    }\n",
       "\n",
       "    .dataframe tbody tr th {\n",
       "        vertical-align: top;\n",
       "    }\n",
       "\n",
       "    .dataframe thead th {\n",
       "        text-align: right;\n",
       "    }\n",
       "</style>\n",
       "<table border=\"1\" class=\"dataframe\">\n",
       "  <thead>\n",
       "    <tr style=\"text-align: right;\">\n",
       "      <th></th>\n",
       "      <th>day</th>\n",
       "      <th>season</th>\n",
       "      <th>weekday</th>\n",
       "      <th>workingday</th>\n",
       "      <th>weathersit</th>\n",
       "      <th>temp</th>\n",
       "      <th>windspeed</th>\n",
       "      <th>casual</th>\n",
       "      <th>registered</th>\n",
       "      <th>cnt</th>\n",
       "    </tr>\n",
       "  </thead>\n",
       "  <tbody>\n",
       "    <tr>\n",
       "      <th>0</th>\n",
       "      <td>1</td>\n",
       "      <td>1</td>\n",
       "      <td>6</td>\n",
       "      <td>0</td>\n",
       "      <td>2</td>\n",
       "      <td>0.344167</td>\n",
       "      <td>0.160446</td>\n",
       "      <td>331</td>\n",
       "      <td>654</td>\n",
       "      <td>985</td>\n",
       "    </tr>\n",
       "    <tr>\n",
       "      <th>1</th>\n",
       "      <td>2</td>\n",
       "      <td>1</td>\n",
       "      <td>0</td>\n",
       "      <td>0</td>\n",
       "      <td>2</td>\n",
       "      <td>0.363478</td>\n",
       "      <td>0.248539</td>\n",
       "      <td>131</td>\n",
       "      <td>670</td>\n",
       "      <td>801</td>\n",
       "    </tr>\n",
       "    <tr>\n",
       "      <th>2</th>\n",
       "      <td>3</td>\n",
       "      <td>1</td>\n",
       "      <td>1</td>\n",
       "      <td>1</td>\n",
       "      <td>1</td>\n",
       "      <td>0.196364</td>\n",
       "      <td>0.248309</td>\n",
       "      <td>120</td>\n",
       "      <td>1229</td>\n",
       "      <td>1349</td>\n",
       "    </tr>\n",
       "    <tr>\n",
       "      <th>3</th>\n",
       "      <td>4</td>\n",
       "      <td>1</td>\n",
       "      <td>2</td>\n",
       "      <td>1</td>\n",
       "      <td>1</td>\n",
       "      <td>0.200000</td>\n",
       "      <td>0.160296</td>\n",
       "      <td>108</td>\n",
       "      <td>1454</td>\n",
       "      <td>1562</td>\n",
       "    </tr>\n",
       "    <tr>\n",
       "      <th>4</th>\n",
       "      <td>5</td>\n",
       "      <td>1</td>\n",
       "      <td>3</td>\n",
       "      <td>1</td>\n",
       "      <td>1</td>\n",
       "      <td>0.226957</td>\n",
       "      <td>0.186900</td>\n",
       "      <td>82</td>\n",
       "      <td>1518</td>\n",
       "      <td>1600</td>\n",
       "    </tr>\n",
       "  </tbody>\n",
       "</table>\n",
       "</div>"
      ],
      "text/plain": [
       "   day  season  weekday  workingday  weathersit      temp  windspeed  casual  \\\n",
       "0    1       1        6           0           2  0.344167   0.160446     331   \n",
       "1    2       1        0           0           2  0.363478   0.248539     131   \n",
       "2    3       1        1           1           1  0.196364   0.248309     120   \n",
       "3    4       1        2           1           1  0.200000   0.160296     108   \n",
       "4    5       1        3           1           1  0.226957   0.186900      82   \n",
       "\n",
       "   registered   cnt  \n",
       "0         654   985  \n",
       "1         670   801  \n",
       "2        1229  1349  \n",
       "3        1454  1562  \n",
       "4        1518  1600  "
      ]
     },
     "execution_count": 9,
     "metadata": {},
     "output_type": "execute_result"
    }
   ],
   "source": [
    "import pandas as pd\n",
    "daily = pd.read_csv(\"day.csv\")\n",
    "daily.head()"
   ]
  },
  {
   "cell_type": "code",
   "execution_count": null,
   "metadata": {},
   "outputs": [],
   "source": [
    "print(daily.columns)"
   ]
  },
  {
   "cell_type": "markdown",
   "metadata": {},
   "source": [
    "**Question 1 : Data Exploration.** (20 points)\n",
    "\n",
    "- Plot the daily count of bikes that were checked out by **casual/non-registered** users (y) against the temperature (x). \n",
    "- Set the color based on whether it is a working day. Set transparency to 0.7. \n",
    "- Include appropriate labels for x-axis and y-axis, and colorbar. *Hint: use plt.colorbar(ticks = [0,1]) to change the ticks.*\n",
    "- What insights can you get?"
   ]
  },
  {
   "cell_type": "code",
   "execution_count": 23,
   "metadata": {},
   "outputs": [
    {
     "data": {
      "text/plain": [
       "<matplotlib.colorbar.Colorbar at 0x7fe4d0a8afd0>"
      ]
     },
     "execution_count": 23,
     "metadata": {},
     "output_type": "execute_result"
    },
    {
     "data": {
      "image/png": "[encoded data removed]",
      "text/plain": [
       "<Figure size 432x288 with 2 Axes>"
      ]
     },
     "metadata": {
      "needs_background": "light"
     },
     "output_type": "display_data"
    }
   ],
   "source": [
    "## Plot of temperature vs casual users\n",
    "plt.scatter('temp', 'casual',data = daily, alpha = 0.7, c = 'workingday')\n",
    "plt.xlabel('Temperature')\n",
    "plt.ylabel('Casual Users')\n",
    "plt.title('Plot of Casual Users Dependent on Temperature')\n",
    "plt.colorbar(ticks = [0, 1])"
   ]
  },
  {
   "cell_type": "markdown",
   "metadata": {},
   "source": [
    "On weekdays, the number of users is considerably lower on average than on weekends. Another interesting trend is that the number of casual users increases on both weekends and weekdays as the temperature rises to a value of 0.6, after which fewer people use the service. "
   ]
  },
  {
   "cell_type": "markdown",
   "metadata": {},
   "source": [
    "## Regression\n",
    "\n",
    "In this section, you are supposed to complete THREE regression models, some in conjunction with grid search and CV. First, run the cells below to complete the data splitting step. "
   ]
  },
  {
   "cell_type": "code",
   "execution_count": 24,
   "metadata": {},
   "outputs": [],
   "source": [
    "# Define X and y\n",
    "var = ['temp','windspeed','season', 'weekday', 'workingday', 'weathersit']\n",
    "X = daily[var]\n",
    "y = daily['cnt']"
   ]
  },
  {
   "cell_type": "code",
   "execution_count": 48,
   "metadata": {},
   "outputs": [],
   "source": [
    "# Data splitting for training and test set\n",
    "from sklearn.model_selection import train_test_split\n",
    "X_train, X_test, y_train, y_test = train_test_split(X, y, random_state = 42)"
   ]
  },
  {
   "cell_type": "markdown",
   "metadata": {},
   "source": [
    "**Question 2: Linear Regression (30 pts)**\n",
    "\n",
    "- Train a linear regression model. Report and specify clearly the estimated coefficients and intercept.   \n",
    "  *Hint: use print function to specify the result reported is the intercept.*\n",
    "- Obtain and use print function to report the R-squared value for (1) the training set, and (2) the test set. \n",
    "- We have obtained two R-squared values. Which one is larger? Which one demonstrates a better performance? Which one should we report as the unbiased performance measure?\n",
    "- Obtain the predicted y for (1) the training set and (2) the test set. Store them properly\n",
    "- Calculate and use print function to report (1) the MAE for training set, and (2) the MAE for test set.  "
   ]
  },
  {
   "cell_type": "code",
   "execution_count": 49,
   "metadata": {},
   "outputs": [
    {
     "name": "stdout",
     "output_type": "stream",
     "text": [
      "The coefficients of the linear regression are: \n",
      " [ 5245.48567189 -1995.73565252   412.66281476    76.77426589\n",
      "   132.20982981  -800.60943777] \n",
      " The intercept is: \n",
      " 2093.4087280168706\n"
     ]
    }
   ],
   "source": [
    "# Train the model and report coefficients\n",
    "# Initiating linear regression\n",
    "from sklearn.linear_model import LinearRegression\n",
    "linearreg = LinearRegression()\n",
    "linearreg.fit(X_train, y_train)\n",
    "print(\"The coefficients of the linear regression are: \\n\", linearreg.coef_, \"\\n The intercept is: \\n\", linearreg.intercept_)"
   ]
  },
  {
   "cell_type": "code",
   "execution_count": 50,
   "metadata": {},
   "outputs": [
    {
     "name": "stdout",
     "output_type": "stream",
     "text": [
      "The R-squared value for the training set is: 0.49817540095276036\n",
      "The R-squared value for the test set is: 0.5285823895780065\n"
     ]
    }
   ],
   "source": [
    "## Get R-squared value for training and test set\n",
    "print(\"The R-squared value for the training set is:\", linearreg.score(X_train, y_train))\n",
    "print(\"The R-squared value for the test set is:\", linearreg.score(X_test, y_test))"
   ]
  },
  {
   "cell_type": "markdown",
   "metadata": {},
   "source": [
    "The R-squared value is fairly low, indicating that the input variables explain 52.9% of the output value. Another thing to note is that the test R-squared value is higher than the training value. This could be either due to chance or some other factors.\n",
    "\n",
    "To determine whether the test value is not higher solely due to chance, it is important to run cross-validation. "
   ]
  },
  {
   "cell_type": "code",
   "execution_count": 60,
   "metadata": {},
   "outputs": [],
   "source": [
    "## Obtain predicted ys\n",
    "y_train_pred = linearreg.predict(X_train)\n",
    "y_test_pred = linearreg.predict(X_test)"
   ]
  },
  {
   "cell_type": "code",
   "execution_count": 90,
   "metadata": {},
   "outputs": [
    {
     "name": "stdout",
     "output_type": "stream",
     "text": [
      "The MAE for the training set is: 1161.1887574080558\n",
      "The MAE for the test set is: 1152.4435945911378\n"
     ]
    }
   ],
   "source": [
    "## Obtain and report MAE\n",
    "# MAE train \n",
    "err_y_train = y_train - y_train_pred\n",
    "\n",
    "err_y_test =  y_test - y_test_pred\n",
    "print(\"The MAE for the training set is:\", np.mean(np.abs(err_y_train)))\n",
    "print(\"The MAE for the test set is:\", np.mean(np.abs(err_y_test)))"
   ]
  },
  {
   "cell_type": "markdown",
   "metadata": {},
   "source": [
    "**Question 3: Polynomial Regression (30 pts)**\n",
    "\n",
    "- Train a Polynomial regression model with grid search and 10-fold cross-validation. Let the grid of the hyperparameter be: [1,2,3]. Leave other parameters as default.\n",
    "- Obtain the predicted value for (1) the training set and (2) the test set. Then calculate the MSE for (1) the training set and (2) the test set. *Hint: here, the predicted value are obtained based on the best model (i.e., model with the chosen hyperparameter).*\n",
    "- Obtain and report the model's test score (i.e., R-squared value).\n",
    "- Compare the test R-squared between the current model and the test R-squared value you obtained from Question 2. What do you find? Given this result, without running additional syntax, what is your guess of the value of the chosen hyperparameter? Explain briefly. "
   ]
  },
  {
   "cell_type": "code",
   "execution_count": 117,
   "metadata": {},
   "outputs": [],
   "source": [
    "## Train the model\n",
    "from sklearn.preprocessing import PolynomialFeatures\n",
    "from sklearn.preprocessing import PolynomialFeatures\n",
    "from sklearn.linear_model import LinearRegression\n",
    "from sklearn.model_selection import GridSearchCV, train_test_split\n",
    "from sklearn.model_selection import KFold\n",
    "from sklearn.pipeline import make_pipeline\n",
    "\n",
    "# Initiating linear regression\n",
    "lr = LinearRegression()\n",
    "\n",
    "# Splitting the data\n",
    "X_train, X_test, y_train, y_test = train_test_split(X, y, test_size = 0.2, random_state = 42)\n",
    "\n",
    "# Transforming the data for polynomial regression\n",
    "X_train_poly = poly.fit_transform(X_train)\n",
    "X_test_poly = poly.fit_transform(X_test)\n",
    "\n",
    "# Training the data\n",
    "lr.fit(X_train_poly, y_train)\n",
    "\n",
    "# Predicting y_test_poly\n",
    "y_train_poly_pred = lr.predict(X_train_poly)\n",
    "y_test_poly_pred = lr.predict(X_test_poly)"
   ]
  },
  {
   "cell_type": "code",
   "execution_count": 118,
   "metadata": {},
   "outputs": [
    {
     "name": "stdout",
     "output_type": "stream",
     "text": [
      "The MSEs are:\n",
      "Training set: 1.080513802150778 \n",
      "Test set: 3.196032343995449e+19\n"
     ]
    }
   ],
   "source": [
    "## Calculate and report the MSEs\n",
    "E_train = y_train - y_train_poly_pred\n",
    "MSE_train = np.mean(E_train**2)\n",
    "\n",
    "E_test = y_test - y_test_poly_pred\n",
    "MSE_test = np.mean(E_test**2)\n",
    "\n",
    "print(\"The MSEs are:\\nTraining set:\", MSE_train, \"\\nTest set:\", MSE_test)"
   ]
  },
  {
   "cell_type": "code",
   "execution_count": 136,
   "metadata": {},
   "outputs": [
    {
     "data": {
      "text/plain": [
       "array([5724.875  , 1742.84375, 4393.0625 , 3437.34375, 6118.03125,\n",
       "       6190.6875 ,  934.5    , 3893.40625, 6712.5    , 5184.21875,\n",
       "       1719.375  , 5441.96875, 5857.5625 , 4255.6875 , 3145.0625 ,\n",
       "       3090.125  , 3516.65625, 6837.625  , 6281.625  , 1484.4375 ,\n",
       "       6367.09375, 4519.4375 , 4599.5    , 2677.4375 , 1673.03125,\n",
       "       6271.28125, 2385.15625, 5731.875  , 2476.25   , 5046.53125,\n",
       "       2353.875  , 5557.5    , 5493.     , 6323.78125, 5005.     ,\n",
       "       4881.65625, 6861.375  , 5092.0625 , 4196.53125, 1400.21875,\n",
       "       6011.03125, 2631.9375 , 6203.875  , 5397.65625, 5505.40625,\n",
       "       1941.71875, 5308.03125, 4415.75   , 5792.25   , 3409.25   ,\n",
       "       4807.75   , 3577.125  , 2940.09375, 5296.625  , 6065.5625 ,\n",
       "       5882.71875, 7032.75   , 3665.3125 , 5581.9375 , 4736.59375,\n",
       "       5155.1875 , 6316.90625, 2926.53125, 6810.28125, 5370.46875,\n",
       "       5475.53125, 5670.53125, 5016.09375, 2822.875  , 5247.875  ,\n",
       "       4391.625  , 3862.59375, 4397.46875, 5872.875  , 3710.125  ,\n",
       "       3786.59375, 4457.625  , 5503.28125, 1796.78125, 5388.34375,\n",
       "       1569.03125, 3173.6875 , 4926.25   , 4059.71875, 4954.03125,\n",
       "       2807.90625, 7453.96875, 4529.09375, 4880.78125, 4369.4375 ,\n",
       "       2168.9375 , 5954.1875 , 4772.125  , 4688.4375 , 2437.5    ,\n",
       "       2488.125  , 5860.40625,  921.28125, 5625.875  , 6090.75   ,\n",
       "       6344.875  , 5864.25   , 4620.71875, 2996.125  , 3656.28125,\n",
       "       4590.5625 , 2508.65625, 3681.53125, 5584.1875 , 1530.65625,\n",
       "       5580.28125, 5326.21875, 4481.75   , 6344.5    , 5248.0625 ,\n",
       "       4806.6875 , 2594.40625, 2584.1875 , 6841.96875, 2021.40625,\n",
       "       5321.5    , 2093.125  , 5175.125  , 2272.84375, 5662.3125 ,\n",
       "       4913.375  , 5606.90625, 3107.59375, 3183.53125, 5444.1875 ,\n",
       "       4135.5625 , 5289.59375, 4279.375  , 3989.15625, 6243.28125,\n",
       "       2613.8125 , 3778.5    , 5978.96875, 2526.90625, 5157.0625 ,\n",
       "       5894.875  , 3725.28125, 3372.5    , 5213.3125 , 5335.28125,\n",
       "       6288.15625, 5928.8125 ])"
      ]
     },
     "execution_count": 136,
     "metadata": {},
     "output_type": "execute_result"
    }
   ],
   "source": [
    "## Obtain the test R-squared\n",
    "from sklearn.model_selection import GridSearchCV\n",
    "\n",
    "# Setting up cross validation\n",
    "cross_val = KFold(n_splits = 10, shuffle = True, random_state = 42)\n",
    "\n",
    "# Creating a pipeline \n",
    "poly_transfer = PolynomialFeatures(degree = 3)\n",
    "my_poly_reg = make_pipeline(poly_transfer, lr)\n",
    "\n",
    "# Setting up GridSearchCV\n",
    "param_grid = {'polynomialfeatures__degree': [1, 2, 3]} \n",
    "grid_search = GridSearchCV(estimator = my_poly_reg, param_grid = param_grid, cv = cross_val)\n",
    "\n",
    "poly_grid = PolynomialFeatures()\n",
    "my_lr_grid = LinearRegression()\n",
    "\n",
    "my_poly_grid_reg = make_pipeline(poly_grid, my_lr_grid)\n",
    "grid_search = GridSearchCV(estimator = my_poly_reg, param_grid = param_grid, cv = cross_val)\n",
    "\n",
    "# Fitting the model with grid search and cross-validation\n",
    "grid_search.fit(X_train, y_train)\n",
    "\n",
    "# Prediction\n",
    "grid_search.predict(X_test)"
   ]
  },
  {
   "cell_type": "code",
   "execution_count": 138,
   "metadata": {},
   "outputs": [
    {
     "data": {
      "text/plain": [
       "0.5533901795874405"
      ]
     },
     "execution_count": 138,
     "metadata": {},
     "output_type": "execute_result"
    }
   ],
   "source": [
    "# Discussion: R-squared value and optimal polynomial degree\n",
    "grid_search.score(X_test, y_test)"
   ]
  },
  {
   "cell_type": "code",
   "execution_count": 144,
   "metadata": {},
   "outputs": [
    {
     "name": "stdout",
     "output_type": "stream",
     "text": [
      "{'polynomialfeatures__degree': 3} 0.47325816558375405\n"
     ]
    }
   ],
   "source": [
    "print(grid_search.best_params_, grid_search.best_score_ )"
   ]
  },
  {
   "cell_type": "markdown",
   "metadata": {},
   "source": [
    "Since the R-squared value of the current model is higher, we will use that model."
   ]
  },
  {
   "cell_type": "code",
   "execution_count": null,
   "metadata": {},
   "outputs": [],
   "source": []
  }
 ],
 "metadata": {
  "kernelspec": {
   "display_name": "Python 3 (ipykernel)",
   "language": "python",
   "name": "python3"
  },
  "language_info": {
   "codemirror_mode": {
    "name": "ipython",
    "version": 3
   },
   "file_extension": ".py",
   "mimetype": "text/x-python",
   "name": "python",
   "nbconvert_exporter": "python",
   "pygments_lexer": "ipython3",
   "version": "3.9.12"
  }
 },
 "nbformat": 4,
 "nbformat_minor": 2
}
